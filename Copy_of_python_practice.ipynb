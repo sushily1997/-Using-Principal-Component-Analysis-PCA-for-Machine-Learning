{
  "nbformat": 4,
  "nbformat_minor": 0,
  "metadata": {
    "colab": {
      "provenance": [],
      "include_colab_link": true
    },
    "kernelspec": {
      "name": "python3",
      "display_name": "Python 3"
    },
    "language_info": {
      "name": "python"
    }
  },
  "cells": [
    {
      "cell_type": "markdown",
      "metadata": {
        "id": "view-in-github",
        "colab_type": "text"
      },
      "source": [
        "<a href=\"https://colab.research.google.com/github/sushily1997/-Using-Principal-Component-Analysis-PCA-for-Machine-Learning/blob/main/Copy_of_python_practice.ipynb\" target=\"_parent\"><img src=\"https://colab.research.google.com/assets/colab-badge.svg\" alt=\"Open In Colab\"/></a>"
      ]
    },
    {
      "cell_type": "code",
      "execution_count": null,
      "metadata": {
        "id": "K0DCC47-9MDc",
        "colab": {
          "base_uri": "https://localhost:8080/",
          "height": 36
        },
        "outputId": "f63fc18f-baba-44a5-9b81-3b99a3b55a53"
      },
      "outputs": [
        {
          "output_type": "execute_result",
          "data": {
            "text/plain": [
              "'?uoy tuoba woH .nohtyP ni gnimmargorp evol I'"
            ],
            "application/vnd.google.colaboratory.intrinsic+json": {
              "type": "string"
            }
          },
          "metadata": {},
          "execution_count": 21
        }
      ],
      "source": [
        "sentence = \"I love programming in Python. How about you?\"\n",
        "''.join(sentence[-i] for i in range(1, len(sentence)+1))"
      ]
    },
    {
      "cell_type": "markdown",
      "source": [
        "Question 1\n",
        "Level 1\n",
        "\n",
        "Question: Write a program which will find all such numbers which are divisible by 7 but are not a multiple of 5, between 2000 and 3200 (both included). The numbers obtained should be printed in a comma-separated sequence on a single line.\n",
        "\n",
        "Hints: Consider use range(#begin, #end) method\n",
        "\n",
        "Solution:"
      ],
      "metadata": {
        "id": "VYfQoDBL9Pfv"
      }
    },
    {
      "cell_type": "code",
      "source": [
        "for i in range(2000,3201):\n",
        "    if i%7 == 0 and i%5!=0:\n",
        "        print(i,end=',')\n",
        "print(\"\\b\")"
      ],
      "metadata": {
        "colab": {
          "base_uri": "https://localhost:8080/"
        },
        "id": "nH3WJAlIkaxX",
        "outputId": "53a260d6-d6da-45c6-8b5b-787d1d801a24"
      },
      "execution_count": null,
      "outputs": [
        {
          "output_type": "stream",
          "name": "stdout",
          "text": [
            "2002,2009,2016,2023,2037,2044,2051,2058,2072,2079,2086,2093,2107,2114,2121,2128,2142,2149,2156,2163,2177,2184,2191,2198,2212,2219,2226,2233,2247,2254,2261,2268,2282,2289,2296,2303,2317,2324,2331,2338,2352,2359,2366,2373,2387,2394,2401,2408,2422,2429,2436,2443,2457,2464,2471,2478,2492,2499,2506,2513,2527,2534,2541,2548,2562,2569,2576,2583,2597,2604,2611,2618,2632,2639,2646,2653,2667,2674,2681,2688,2702,2709,2716,2723,2737,2744,2751,2758,2772,2779,2786,2793,2807,2814,2821,2828,2842,2849,2856,2863,2877,2884,2891,2898,2912,2919,2926,2933,2947,2954,2961,2968,2982,2989,2996,3003,3017,3024,3031,3038,3052,3059,3066,3073,3087,3094,3101,3108,3122,3129,3136,3143,3157,3164,3171,3178,3192,3199,\b\n"
          ]
        }
      ]
    },
    {
      "cell_type": "markdown",
      "source": [
        "Question 2\n",
        "Level 1\n",
        "\n",
        "Question: Write a program which can compute the factorial of a given numbers. The results should be printed in a comma-separated sequence on a single line. Suppose the following input is supplied to the program: 8 Then, the output should be: 40320\n",
        "\n",
        "Hints: In case of input data being supplied to the question, it should be assumed to be a console input.\n",
        "\n",
        "Solution:"
      ],
      "metadata": {
        "id": "Vw8qu_2c-CMP"
      }
    },
    {
      "cell_type": "code",
      "source": [
        "def fact(x):\n",
        "  if x==0:\n",
        "    return 1\n",
        "  return x * fact (x-1)\n",
        "\n",
        "x= int(input())\n",
        "print(fact(x))"
      ],
      "metadata": {
        "colab": {
          "base_uri": "https://localhost:8080/"
        },
        "id": "JVp89SOB9uA9",
        "outputId": "a176833f-9a9f-414f-c496-2ca4bd65669b"
      },
      "execution_count": null,
      "outputs": [
        {
          "output_type": "stream",
          "name": "stdout",
          "text": [
            "8\n",
            "40320\n"
          ]
        }
      ]
    },
    {
      "cell_type": "markdown",
      "source": [
        "Question 3\n",
        "Level 1\n",
        "\n",
        "Question: With a given integral number n, write a program to generate a dictionary that contains (i, i*i) such that is an integral number between 1 and n (both included). and then the program should print the dictionary. Suppose the following input is supplied to the program: 8 Then, the output should be: {1: 1, 2: 4, 3: 9, 4: 16, 5: 25, 6: 36, 7: 49, 8: 64}\n",
        "\n",
        "Hints: In case of input data being supplied to the question, it should be assumed to be a console input. Consider use dict()\n",
        "\n",
        "Solution:"
      ],
      "metadata": {
        "id": "Cz-J7WX7-m4I"
      }
    },
    {
      "cell_type": "code",
      "source": [
        "n=int(input())\n",
        "d=dict()\n",
        "for i in range(1,n+1):\n",
        "  d[i]=i*i\n",
        "\n",
        "print(d)"
      ],
      "metadata": {
        "colab": {
          "base_uri": "https://localhost:8080/"
        },
        "id": "4qPB60_N-cH0",
        "outputId": "1424b4fd-2542-418c-dc5f-aa7375cc5ab1"
      },
      "execution_count": null,
      "outputs": [
        {
          "output_type": "stream",
          "name": "stdout",
          "text": [
            "8\n",
            "{1: 1, 2: 4, 3: 9, 4: 16, 5: 25, 6: 36, 7: 49, 8: 64}\n"
          ]
        }
      ]
    },
    {
      "cell_type": "markdown",
      "source": [
        "Question 4\n",
        "Level 1\n",
        "\n",
        "Question: Write a program which accepts a sequence of comma-separated numbers from console and generate a list and a tuple which contains every number. Suppose the following input is supplied to the program: 34,67,55,33,12,98 Then, the output should be: ['34', '67', '55', '33', '12', '98'] ('34', '67', '55', '33', '12', '98')\n",
        "\n",
        "Hints: In case of input data being supplied to the question, it should be assumed to be a console input. tuple() method can convert list to tuple\n",
        "\n",
        "Solution:"
      ],
      "metadata": {
        "id": "A9lRBQPg_NgH"
      }
    },
    {
      "cell_type": "code",
      "source": [
        "values=input()\n",
        "l=values.split(\",\")\n",
        "t=tuple(l)\n",
        "print(l)\n",
        "print(t)"
      ],
      "metadata": {
        "colab": {
          "base_uri": "https://localhost:8080/"
        },
        "id": "73-zcQYw_Ga-",
        "outputId": "afafddad-30e2-47a7-d8bf-60b6a6ed41d4"
      },
      "execution_count": null,
      "outputs": [
        {
          "output_type": "stream",
          "name": "stdout",
          "text": [
            "12345678\n",
            "['12345678']\n",
            "('12345678',)\n"
          ]
        }
      ]
    },
    {
      "cell_type": "markdown",
      "source": [
        "Question 5\n",
        "Level 1\n",
        "\n",
        "Question: Define a class which has at least two methods: getString: to get a string from console input printString: to print the string in upper case. Also please include simple test function to test the class methods.\n",
        "\n",
        "Hints: Use init method to construct some parameters\n",
        "\n",
        "Solution:"
      ],
      "metadata": {
        "id": "reNFlr1IAJib"
      }
    },
    {
      "cell_type": "code",
      "source": [
        "class InputOutString(object):\n",
        "    def __init__(self):\n",
        "        self.s = \"\"\n",
        "\n",
        "    def getString(self):\n",
        "        self.s = input()\n",
        "    \n",
        "    def printString(self):\n",
        "        print(self.s.upper())\n",
        "\n",
        "strObj = InputOutString()\n",
        "strObj.getString()\n",
        "strObj.printString()"
      ],
      "metadata": {
        "colab": {
          "base_uri": "https://localhost:8080/"
        },
        "id": "f2UrsQ3b_gd0",
        "outputId": "f626d769-0a74-41ab-a66f-72f0ae83710a"
      },
      "execution_count": null,
      "outputs": [
        {
          "output_type": "stream",
          "name": "stdout",
          "text": [
            "a,b,a,2,6\n",
            "A,B,A,2,6\n"
          ]
        }
      ]
    },
    {
      "cell_type": "markdown",
      "source": [
        "Question 8\n",
        "Level 2\n",
        "\n",
        "Question: Write a program that accepts a comma separated sequence of words as input and prints the words in a comma-separated sequence after sorting them alphabetically. Suppose the following input is supplied to the program: without,hello,bag,world Then, the output should be: bag,hello,without,world\n",
        "\n",
        "Hints: In case of input data being supplied to the question, it should be assumed to be a console input.\n",
        "\n",
        "Solution:"
      ],
      "metadata": {
        "id": "vYdqt0krD_gy"
      }
    },
    {
      "cell_type": "code",
      "source": [
        "items=[x for x in input().split(',')]\n",
        "items.sort()\n",
        "print(','.join(items))"
      ],
      "metadata": {
        "colab": {
          "base_uri": "https://localhost:8080/"
        },
        "id": "-iI3Nr-4B-X-",
        "outputId": "4822f610-4ab1-428e-d4e5-a10c19fa1a2d"
      },
      "execution_count": null,
      "outputs": [
        {
          "output_type": "stream",
          "name": "stdout",
          "text": [
            "d,de,ft,s,g,r,sg,er,tx,h,t,g\n",
            "d,de,er,ft,g,g,h,r,s,sg,t,tx\n"
          ]
        }
      ]
    },
    {
      "cell_type": "markdown",
      "source": [
        "Question 9\n",
        "Level 2\n",
        "\n",
        "Question£º Write a program that accepts sequence of lines as input and prints the lines after making all characters in the sentence capitalized. Suppose the following input is supplied to the program: Hello world Practice makes perfect Then, the output should be: HELLO WORLD PRACTICE MAKES PERFECT\n",
        "\n",
        "Hints: In case of input data being supplied to the question, it should be assumed to be a console input.\n",
        "\n",
        "Solution:"
      ],
      "metadata": {
        "id": "L0QAnPpkGhi1"
      }
    },
    {
      "cell_type": "code",
      "source": [
        "lines=[]\n",
        "s=input()\n",
        "if s:\n",
        "    lines.append(s.upper())\n",
        "     \n",
        "for senetence  in lines:\n",
        "  print( senetence)"
      ],
      "metadata": {
        "colab": {
          "base_uri": "https://localhost:8080/"
        },
        "id": "VBR-Hou2Gj6Q",
        "outputId": "e92d9b5a-1a15-4acd-d2f2-9260f0f963dd"
      },
      "execution_count": null,
      "outputs": [
        {
          "output_type": "stream",
          "name": "stdout",
          "text": [
            "Hello world Practice makes perfect\n",
            "HELLO WORLD PRACTICE MAKES PERFECT\n"
          ]
        }
      ]
    },
    {
      "cell_type": "markdown",
      "source": [
        "Question 10\n",
        "Level 2\n",
        "\n",
        "Question: Write a program that accepts a sequence of whitespace separated words as input and prints the words after removing all duplicate words and sorting them alphanumerically. Suppose the following input is supplied to the program: hello world and practice makes perfect and hello world again Then, the output should be: again and hello makes perfect practice world\n",
        "\n",
        "Hints: In case of input data being supplied to the question, it should be assumed to be a console input. We use set container to remove duplicated data automatically and then use sorted() to sort the data.\n",
        "\n",
        "Solution:"
      ],
      "metadata": {
        "id": "GkTjjt_QJC7l"
      }
    },
    {
      "cell_type": "code",
      "source": [
        "s = input()\n",
        "words = [word for word in s.split(\",\")]\n",
        "print(\" \".join(sorted(list(set(words)))))"
      ],
      "metadata": {
        "colab": {
          "base_uri": "https://localhost:8080/"
        },
        "id": "57X56tLhHRV7",
        "outputId": "b682b550-4aec-49f3-a148-f5b84f7a0fc7"
      },
      "execution_count": null,
      "outputs": [
        {
          "output_type": "stream",
          "name": "stdout",
          "text": [
            "s h k y  5 h 5 h \n",
            "s h k y  5 h 5 h \n"
          ]
        }
      ]
    },
    {
      "cell_type": "markdown",
      "source": [
        "# Q1. Python program to check if a string is palindrome or not\n",
        "\n",
        "Given a string, write a python function to check if it is palindrome or not. A string is said to be palindrome if the reverse of the string is the same as string. For example, “radar” is a palindrome, but “radix” is not a palindrome.\n",
        "\n",
        "Examples: \n",
        "\n",
        "Input : malayalam\n",
        "\n",
        "Output : Yes\n",
        "\n",
        "\n",
        "\n",
        "Input : geeks\n",
        "\n",
        "Output : No\n",
        "\n",
        "**Method #1**\n",
        "\n",
        "1. Find reverse of string\n",
        "\n",
        "2. Check if reverse and original are same or not."
      ],
      "metadata": {
        "id": "DtCYRuIYNJe5"
      }
    },
    {
      "cell_type": "code",
      "source": [
        "def ispalendrome(s):\n",
        "  return(s==s[::-1])\n",
        "\n",
        "s=input()\n",
        "ans=ispalendrome\n",
        "if ans:\n",
        "  print(\"yes\")\n",
        "else:\n",
        "  print(\"no\")\n",
        "\n"
      ],
      "metadata": {
        "colab": {
          "base_uri": "https://localhost:8080/"
        },
        "id": "pPsAZ-V9JYmQ",
        "outputId": "7408224f-4063-413a-fe61-ebd5afc57925"
      },
      "execution_count": null,
      "outputs": [
        {
          "output_type": "stream",
          "name": "stdout",
          "text": [
            "geeks\n",
            "yes\n"
          ]
        }
      ]
    },
    {
      "cell_type": "markdown",
      "source": [
        "Method using one extra variable: In this method, the user takes a character of string one by one and store it in an empty variable. After storing all the characters user will compare both the string and check whether it is palindrome or not. "
      ],
      "metadata": {
        "id": "eL51txQdgIze"
      }
    },
    {
      "cell_type": "code",
      "source": [
        "\n",
        "# Python program to check\n",
        "# if a string is palindrome\n",
        "# or not\n",
        " \n",
        "x = \"malayalam\"\n",
        " \n",
        "w = \"\"\n",
        "for i in x:\n",
        "    w = i + w\n",
        " \n",
        "if (x == w):\n",
        "    print(\"Yes\")\n",
        "else:\n",
        "    print(\"No\")"
      ],
      "metadata": {
        "colab": {
          "base_uri": "https://localhost:8080/"
        },
        "id": "8wZsKVq-fv8d",
        "outputId": "99066251-7b03-44d2-8870-ca9b38e7dc74"
      },
      "execution_count": null,
      "outputs": [
        {
          "output_type": "stream",
          "name": "stdout",
          "text": [
            "Yes\n"
          ]
        }
      ]
    },
    {
      "cell_type": "markdown",
      "source": [
        "Method using flag: In this method, the user compares each character from starting and ending in a for loop and if the character does not match then it will change the status of the flag. Then it will check the status of the flag and accordingly and print whether it is a palindrome or not.  "
      ],
      "metadata": {
        "id": "QQ9K-smxgKtM"
      }
    },
    {
      "cell_type": "code",
      "source": [
        "# Python program to check\n",
        "# if a string is palindrome\n",
        "# or not\n",
        "st = 'malayalam'\n",
        "j = -1\n",
        "flag = 0\n",
        "for i in st:\n",
        "    if i != st[j]:\n",
        "        flag = 1\n",
        "        break\n",
        "    j = j - 1\n",
        "if flag == 1:\n",
        "    print(\"NO\")\n",
        "else:\n",
        "    print(\"Yes\")"
      ],
      "metadata": {
        "colab": {
          "base_uri": "https://localhost:8080/"
        },
        "id": "KoSsjF3JgNx0",
        "outputId": "83512b85-6de9-4ed6-f23c-d388518e070f"
      },
      "execution_count": null,
      "outputs": [
        {
          "output_type": "stream",
          "name": "stdout",
          "text": [
            "Yes\n"
          ]
        }
      ]
    },
    {
      "cell_type": "markdown",
      "source": [
        "# Q2. Remove all duplicates from a given string in Python\n",
        "\n",
        "We are given a string and we need to remove all duplicates from it? What will be the output if the order of character matters?\n",
        "\n",
        " Examples:\n",
        "\n",
        "Input : geeksforgeeks \n",
        "\n",
        "Output : efgkors\n",
        "\n",
        "This problem has existing solution please refer Remove all duplicates from a given string. \n",
        "\n",
        "**Method 1:** "
      ],
      "metadata": {
        "id": "g8VFWRuxgv13"
      }
    },
    {
      "cell_type": "code",
      "source": [
        "from collections import OrderedDict\n",
        " \n",
        "# Function to remove all duplicates from string\n",
        "# and order does not matter\n",
        "def removeDupWithoutOrder(str):\n",
        " \n",
        "    # set() --> A Set is an unordered collection\n",
        "    #         data type that is iterable, mutable,\n",
        "    #         and has no duplicate elements.\n",
        "    # \"\".join() --> It joins two adjacent elements in\n",
        "    #             iterable with any symbol defined in\n",
        "    #             \"\" ( double quotes ) and returns a\n",
        "    #             single string\n",
        "    return \"\".join(set(str))\n",
        " \n",
        "# Function to remove all duplicates from string\n",
        "# and keep the order of characters same\n",
        "def removeDupWithOrder(str):\n",
        "    return \"\".join(OrderedDict.fromkeys(str))\n",
        " \n",
        "# Driver program\n",
        "if __name__ == \"__main__\":\n",
        "    str = \"geeksforgeeks\"\n",
        "    print (\"Without Order = \",removeDupWithoutOrder(str))\n",
        "    print (\"With Order = \",removeDupWithOrder(str))"
      ],
      "metadata": {
        "colab": {
          "base_uri": "https://localhost:8080/"
        },
        "id": "swoxxy5Eg3xf",
        "outputId": "52802c6f-4a31-4662-efc8-96ed0cd4df04"
      },
      "execution_count": null,
      "outputs": [
        {
          "output_type": "stream",
          "name": "stdout",
          "text": [
            "Without Order =  ogeskrf\n",
            "With Order =  geksfor\n"
          ]
        }
      ]
    },
    {
      "cell_type": "markdown",
      "source": [
        "**Method 2:**"
      ],
      "metadata": {
        "id": "u8HiHdG4hIL_"
      }
    },
    {
      "cell_type": "code",
      "source": [
        "def removeDuplicate(str):\n",
        "    s=set(str)\n",
        "    s=\"\".join(s)\n",
        "    print(\"Without Order:\",s)\n",
        "    t=\"\"\n",
        "    for i in str:\n",
        "        if(i in t):\n",
        "            pass\n",
        "        else:\n",
        "            t=t+i\n",
        "        print(\"With Order:\",t)\n",
        "     \n",
        "str=\"geeksforgeeks\"\n",
        "removeDuplicate(str)"
      ],
      "metadata": {
        "colab": {
          "base_uri": "https://localhost:8080/"
        },
        "id": "gHuO8HCBhKZv",
        "outputId": "4fc1bd95-3086-44db-8fc3-92ec4dd65f1e"
      },
      "execution_count": null,
      "outputs": [
        {
          "output_type": "stream",
          "name": "stdout",
          "text": [
            "Without Order: ogeskrf\n",
            "With Order: g\n",
            "With Order: ge\n",
            "With Order: ge\n",
            "With Order: gek\n",
            "With Order: geks\n",
            "With Order: geksf\n",
            "With Order: geksfo\n",
            "With Order: geksfor\n",
            "With Order: geksfor\n",
            "With Order: geksfor\n",
            "With Order: geksfor\n",
            "With Order: geksfor\n",
            "With Order: geksfor\n"
          ]
        }
      ]
    },
    {
      "cell_type": "markdown",
      "source": [
        "# Q3. Python Program for Bubble Sort\n",
        "\n",
        "Bubble Sort is the simplest sorting algorithm that works by repeatedly swapping the adjacent elements if they are in the wrong order. "
      ],
      "metadata": {
        "id": "DQ3dxGe5hXOC"
      }
    },
    {
      "cell_type": "code",
      "source": [
        "\n",
        "# Python program for implementation of Bubble Sort\n",
        " \n",
        "def bubbleSort(arr):\n",
        "    n = len(arr)\n",
        "    # optimize code, so if the array is already sorted, it doesn't need\n",
        "    # to go through the entire process\n",
        "    swapped = False\n",
        "    # Traverse through all array elements\n",
        "    for i in range(n-1):\n",
        "        # range(n) also work but outer loop will\n",
        "        # repeat one time more than needed.\n",
        "        # Last i elements are already in place\n",
        "        for j in range(0, n-i-1):\n",
        " \n",
        "            # traverse the array from 0 to n-i-1\n",
        "            # Swap if the element found is greater\n",
        "            # than the next element\n",
        "            if arr[j] > arr[j + 1]:\n",
        "                swapped = True\n",
        "                arr[j], arr[j + 1] = arr[j + 1], arr[j]\n",
        "         \n",
        "        if not swapped:\n",
        "            # if we haven't needed to make a single swap, we\n",
        "            # can just exit the main loop.\n",
        "            return\n",
        " \n",
        " \n",
        "# Driver code to test above\n",
        "arr = [64, 34, 25, 12, 22, 11, 90]\n",
        " \n",
        "bubbleSort(arr)\n",
        " \n",
        "print(\"Sorted array is:\")\n",
        "for i in range(len(arr)):\n",
        "    print(\"% d\" % arr[i], end=\" \")"
      ],
      "metadata": {
        "colab": {
          "base_uri": "https://localhost:8080/"
        },
        "id": "g44ReeK8hiJ-",
        "outputId": "8dff5773-f750-418b-c97a-7960f4cb62ea"
      },
      "execution_count": null,
      "outputs": [
        {
          "output_type": "stream",
          "name": "stdout",
          "text": [
            "Sorted array is:\n",
            " 11  12  22  25  34  64  90 "
          ]
        }
      ]
    },
    {
      "cell_type": "code",
      "source": [
        "def bubblesort(elements):\n",
        "    swapped = False\n",
        "    # Looping from size of array from last index[-1] to index [0]\n",
        "    for n in range(len(elements)-1, 0, -1):\n",
        "        for i in range(n):\n",
        "            if elements[i] > elements[i + 1]:\n",
        "                swapped = True\n",
        "                # swapping data if the element is less than next element in the array\n",
        "                elements[i], elements[i + 1] = elements[i + 1], elements[i]       \n",
        "        if not swapped:\n",
        "            # exiting the function if we didn't make a single swap\n",
        "            # meaning that the array is already sorted.\n",
        "            return\n",
        " \n",
        "elements = [39, 12, 18, 85, 72, 10, 2, 18]\n",
        " \n",
        "print(\"Unsorted list is,\")\n",
        "print(elements)\n",
        "bubblesort(elements)\n",
        "print(\"Sorted Array is, \")\n",
        "print(elements)"
      ],
      "metadata": {
        "colab": {
          "base_uri": "https://localhost:8080/"
        },
        "id": "fh5LWv9qhqLl",
        "outputId": "9839b5f8-b00a-4377-cfaa-3eccf9b529fb"
      },
      "execution_count": null,
      "outputs": [
        {
          "output_type": "stream",
          "name": "stdout",
          "text": [
            "Unsorted list is,\n",
            "[39, 12, 18, 85, 72, 10, 2, 18]\n",
            "Sorted Array is, \n",
            "[2, 10, 12, 18, 18, 39, 72, 85]\n"
          ]
        }
      ]
    },
    {
      "cell_type": "markdown",
      "source": [
        "# Q4. Python | Print an Inverted Star Pattern\n",
        "\n"
      ],
      "metadata": {
        "id": "SIGcHnT5huhe"
      }
    },
    {
      "cell_type": "code",
      "source": [
        "n=5\n",
        "for i in range (n, 0, -1):\n",
        "    print( * ' ' + i * '*')"
      ],
      "metadata": {
        "colab": {
          "base_uri": "https://localhost:8080/"
        },
        "id": "3ykl6-PeP07I",
        "outputId": "b6a9d7b3-122a-412e-8b17-b169782338d4"
      },
      "execution_count": null,
      "outputs": [
        {
          "output_type": "stream",
          "name": "stdout",
          "text": [
            "  * * * * *\n",
            "  * * * *\n",
            "  * * *\n",
            "  * *\n",
            "  *\n"
          ]
        }
      ]
    },
    {
      "cell_type": "code",
      "source": [
        "for i in range (n,0,-1):\n",
        "  print(*\" \",+i * ' * ')"
      ],
      "metadata": {
        "colab": {
          "base_uri": "https://localhost:8080/"
        },
        "id": "1tU2e2lbRIqH",
        "outputId": "c21de4ed-5a82-4a42-f0a8-ddd5da829573"
      },
      "execution_count": null,
      "outputs": [
        {
          "output_type": "stream",
          "name": "stdout",
          "text": [
            "   *  *  *  *  * \n",
            "   *  *  *  * \n",
            "   *  *  * \n",
            "   *  * \n",
            "   * \n"
          ]
        }
      ]
    },
    {
      "cell_type": "code",
      "source": [
        "for i in range(0,n,1):\n",
        "  print(* \" \",+ i * \" * \")"
      ],
      "metadata": {
        "colab": {
          "base_uri": "https://localhost:8080/"
        },
        "id": "gGXt9G5HRbPk",
        "outputId": "965c81f2-036d-4f5e-9f5c-b4e4680addde"
      },
      "execution_count": null,
      "outputs": [
        {
          "output_type": "stream",
          "name": "stdout",
          "text": [
            "  \n",
            "   * \n",
            "   *  * \n",
            "   *  *  * \n",
            "   *  *  *  * \n"
          ]
        }
      ]
    },
    {
      "cell_type": "markdown",
      "source": [
        "**Given any alphabet between A to Z, the task is to print the pattern of the given alphabet using star.**"
      ],
      "metadata": {
        "id": "h5ABAkTtijYc"
      }
    },
    {
      "cell_type": "code",
      "source": [
        "# Python implementation to print the\n",
        "# pattern of alphabets A to Z using *\n",
        " \n",
        "# Below height and width variable can be used\n",
        "# to create a user-defined sized alphabet's pattern\n",
        " \n",
        "# Number of lines for the alphabet's pattern\n",
        " \n",
        "height = 5\n",
        " \n",
        "# Number of character width in each line\n",
        " \n",
        "width = (2 * height) - 1\n",
        " \n",
        "# Function to find the absolute value\n",
        "# of a number D\n",
        " \n",
        "def abs(d):\n",
        "    if d < 0:\n",
        "        return -1*d\n",
        "    else:\n",
        "        return d\n",
        " \n",
        "# Function to print the pattern of 'A'\n",
        " \n",
        "def printA():\n",
        " \n",
        "    n = width // 2\n",
        "    for i in range(0, height):\n",
        "        for j in range(0, width+1):\n",
        "            if (j == n or j == (width - n) or (i == (height // 2) and j > n and j < (width - n))):\n",
        "                print(\"*\", end=\"\")\n",
        "            else:\n",
        "                print(end=\" \")\n",
        "        print()\n",
        "        n = n-1\n",
        " \n",
        "# Function to print the pattern of 'B'\n",
        "def printB() :\n",
        "    half = height // 2\n",
        " \n",
        "    for i in range(0,height) :\n",
        "        print(\"*\",end=\"\")\n",
        "        for j in range(0,width) :\n",
        "            if ((i == 0 or i == height - 1 or i == half) and j < (width - 2)) :\n",
        "                print(\"*\",end=\"\")\n",
        "            elif (j == (width - 2) and not(i == 0 or i == height - 1 or i == half)) :\n",
        "                print(\"*\",end=\"\")\n",
        "            else :\n",
        "                print(end=\" \")\n",
        "        print()\n",
        " \n",
        "# Function to print the pattern of 'C'\n",
        "def printC() :\n",
        " \n",
        "    for i in range(0,height) :\n",
        "        print(\"*\",end=\"\")\n",
        "        for j in range(0,height - 1) :\n",
        "            if (i == 0 or i == height - 1 ) :\n",
        "                print(\"*\",end=\"\")\n",
        "            else :\n",
        "                continue\n",
        "        print()\n",
        " \n",
        "# Function to print the pattern of 'D'\n",
        "def printD() :\n",
        "     \n",
        "    for i in range(0,height) :\n",
        "        print(\"*\",end=\"\")\n",
        "        for j in range(0,height) :\n",
        "            if ( (i == 0 or i == height - 1) and j < height - 1 ):\n",
        "                print(\"*\",end=\"\")\n",
        "            elif (j == height - 1 and i != 0 and i != height - 1) :\n",
        "                print(\"*\",end=\"\")\n",
        "            else :\n",
        "                print(end=\" \")\n",
        "        print()\n",
        " \n",
        "# Function to print the pattern of 'E'\n",
        "def printE() :\n",
        "     \n",
        "    for i in range(0,height) :\n",
        "        print(\"*\",end=\"\")\n",
        "        for j in range(0,height) :\n",
        "            if ( (i == 0 or i == height - 1) or (i == height // 2 and j <= height // 2) ):\n",
        "                print(\"*\",end=\"\")\n",
        "            else :\n",
        "                continue\n",
        "        print()\n",
        " \n",
        "# Function to print the pattern of 'F'\n",
        "def printF() :\n",
        "     \n",
        "    for i in range(0,height) :\n",
        "        print(\"*\",end=\"\")\n",
        "        for j in range(0,height) :\n",
        "            if ( (i == 0) or (i == height // 2 and j <= height // 2) ):\n",
        "                print(\"*\",end=\"\")\n",
        "            else :\n",
        "                continue\n",
        "        print()\n",
        " \n",
        "# Function to print the pattern of 'G'\n",
        "def printG() :\n",
        " \n",
        "    for i in range(0,height) :\n",
        "        for j in range(0,width-1) :\n",
        "            if ((i == 0 or i == height - 1) and (j == 0 or j == width - 2)) :\n",
        "                print(end=\" \")\n",
        "            elif (j == 0) :\n",
        "                print(\"*\",end=\"\")\n",
        "            elif (i == 0 and j <= height) :\n",
        "                print(\"*\",end=\"\")\n",
        "            elif (i == height // 2 and j > height // 2) :\n",
        "                print(\"*\",end=\"\")\n",
        "            elif (i > height // 2 and j == width - 2) :\n",
        "                print(\"*\",end=\"\")\n",
        "            elif (i == height - 1 and j < width - 1 ) :\n",
        "                print(\"*\",end=\"\")\n",
        "            else :\n",
        "                print(end=\" \")\n",
        "        print()\n",
        " \n",
        "# Function to print the pattern of 'H'\n",
        "def printH() :\n",
        "     \n",
        "    for i in range(0,height) :\n",
        "        print(\"*\",end=\"\")\n",
        "        for j in range(0,height) :\n",
        "            if ( (j == height - 1) or (i == height // 2) ):\n",
        "                print(\"*\",end=\"\")\n",
        "            else :\n",
        "                print(end=\" \")\n",
        "        print()\n",
        " \n",
        "# Function to print the pattern of 'I'\n",
        "def printI() :\n",
        "     \n",
        "    for i in range(0,height) :\n",
        "        for j in range(0,height) :\n",
        "            if ( i == 0 or i == height - 1 ):\n",
        "                print(\"*\",end=\"\")\n",
        "            elif ( j == height // 2 ) :\n",
        "                print(\"*\",end=\"\")\n",
        "            else :\n",
        "                print(end=\" \")\n",
        "        print()\n",
        " \n",
        "# Function to print the pattern of 'J'\n",
        "def printJ() :\n",
        "     \n",
        "    for i in range(0,height) :\n",
        "        for j in range(0,height) :\n",
        "            if ( i == height - 1 and (j > 0 and j < height - 1) ):\n",
        "                print(\"*\",end=\"\")\n",
        "            elif ( (j == height - 1 and i != height - 1) or (i > (height // 2) - 1 and j == 0 and i != height - 1) ) :\n",
        "                print(\"*\",end=\"\")\n",
        "            else :\n",
        "                print(end=\" \")\n",
        "        print()\n",
        " \n",
        "# Function to print the pattern of 'K'\n",
        "def printK() :\n",
        "    half = height // 2\n",
        "    dummy = half\n",
        "    for i in range(0,height) :\n",
        "        print(\"*\",end=\"\")\n",
        "        for j in range(0,half+1) :\n",
        "            if ( j == abs(dummy) ):\n",
        "                print(\"*\",end=\"\")\n",
        "            else :\n",
        "                print(end=\" \")\n",
        "        print()\n",
        "        dummy = dummy -1\n",
        " \n",
        "# Function to print the pattern of 'L'\n",
        "def printL() :\n",
        "     \n",
        "    for i in range(0,height) :\n",
        "        print(\"*\",end=\"\")\n",
        "        for j in range(0,height+1) :\n",
        "            if ( i == height - 1 ):\n",
        "                print(\"*\",end=\"\")\n",
        "            else :\n",
        "                print(end=\" \")\n",
        "        print()\n",
        " \n",
        "# Function to print the pattern of 'M'\n",
        "def printM() :\n",
        "    counter = 0\n",
        "    for i in range(0,height) :\n",
        "        print(\"*\",end=\"\")\n",
        "        for j in range(0,height+1) :\n",
        "            if ( j == height ):\n",
        "                print(\"*\",end=\"\")\n",
        "            elif ( j == counter or j == height - counter - 1 ) :\n",
        "                print(\"*\",end=\"\")\n",
        "            else :\n",
        "                print(end=\" \")\n",
        "        if(counter == height // 2) :\n",
        "            counter = -99999\n",
        "        else :\n",
        "            counter = counter + 1\n",
        "         \n",
        "        print()\n",
        " \n",
        "# Function to print the pattern of 'N'\n",
        "def printN() :\n",
        "    counter = 0\n",
        "    for i in range(0,height) :\n",
        "        print(\"*\",end=\"\")\n",
        "        for j in range(0,height+1) :\n",
        "            if ( j == height ):\n",
        "                print(\"*\",end=\"\")\n",
        "            elif ( j == counter) :\n",
        "                print(\"*\",end=\"\")\n",
        "            else :\n",
        "                print(end=\" \")\n",
        "        counter = counter + 1\n",
        "        print()\n",
        " \n",
        "# Function to print the pattern of 'O'\n",
        "def printO() :\n",
        "    space = height // 3\n",
        "    width = height // 2 + height // 5 + space + space\n",
        "    for i in range(0,height) :\n",
        "        for j in range(0,width + 1) :\n",
        "            if ( j == width - abs(space) or j == abs(space)):\n",
        "                print(\"*\",end=\"\")\n",
        "            elif( (i == 0 or i == height - 1) and j > abs(space) and j < width - abs(space) ) :\n",
        "                print(\"*\",end=\"\")\n",
        "            else :\n",
        "                print(end=\" \")\n",
        " \n",
        "        if( space != 0 and i < height // 2) :\n",
        "            space = space -1\n",
        "        elif ( i >= (height // 2 + height // 5) ) :\n",
        "            space = space -1\n",
        " \n",
        "        print()\n",
        " \n",
        "# Function to print the pattern of 'P'\n",
        "def printP() :\n",
        "    for i in range(0,height) :\n",
        "        print(\"*\",end=\"\")\n",
        "        for j in range(0,height) :\n",
        "            if ( (i == 0 or i == height // 2) and j < height - 1 ):\n",
        "                print(\"*\",end=\"\")\n",
        "            elif ( i < height // 2 and j == height - 1 and i != 0 ) :\n",
        "                print(\"*\",end=\"\")\n",
        "            else :\n",
        "                print(end=\" \")\n",
        "        print()\n",
        " \n",
        "# Function to print the pattern of 'Q'\n",
        "def printQ() :\n",
        "    printO()\n",
        "    d = height\n",
        "    for i in range(0,height//2) :\n",
        "        for j in range(0,d+1) :\n",
        "            if ( j == d ):\n",
        "                print(\"*\",end=\"\")\n",
        "            else :\n",
        "                print(end=\" \")\n",
        "        print()\n",
        "        d = d+1\n",
        " \n",
        "# Function to print the pattern of 'R'\n",
        "def printR() :\n",
        "    half = (height // 2)\n",
        "    for i in range(0,height) :\n",
        "        print(\"*\",end=\"\")\n",
        "        for j in range(0,width) :\n",
        "            if ( (i == 0 or i == half) and j < (width - 2) ):\n",
        "                print(\"*\",end=\"\")\n",
        "            elif ( j == (width - 2) and not(i == 0 or i == half) ) :\n",
        "                print(\"*\",end=\"\")\n",
        "            else :\n",
        "                print(end=\" \")\n",
        "        print()\n",
        " \n",
        "# Function to print the pattern of 'S'\n",
        "def printS() :\n",
        "    for i in range(0,height) :\n",
        "        for j in range(0,height) :\n",
        "            if ( (i == 0 or i == height // 2 or i == height - 1) ):\n",
        "                print(\"*\",end=\"\")\n",
        "            elif ( i < height // 2 and j == 0 ) :\n",
        "                print(\"*\",end=\"\")\n",
        "            elif ( i > height // 2 and j == height - 1 ) :\n",
        "                print(\"*\",end=\"\")\n",
        "            else :\n",
        "                print(end=\" \")\n",
        "        print()\n",
        " \n",
        "# Function to print the pattern of 'T'\n",
        "def printT() :\n",
        "    for i in range(0,height) :\n",
        "        for j in range(0,height) :\n",
        "            if ( i == 0 ):\n",
        "                print(\"*\",end=\"\")\n",
        "            elif ( j == height // 2 ) :\n",
        "                print(\"*\",end=\"\")\n",
        "            else :\n",
        "                print(end=\" \")\n",
        "        print()\n",
        " \n",
        "# Function to print the pattern of 'U'\n",
        "def printU() :\n",
        "    for i in range(0,height) :\n",
        "        if (i != 0 and i != height - 1) :\n",
        "            print(\"*\",end=\"\")\n",
        "        else :\n",
        "            print(end = \" \")\n",
        "        for j in range(0,height) :\n",
        "            if ( ((i == height - 1) and j >= 0 and j < height - 1) ):\n",
        "                print(\"*\",end=\"\")\n",
        "            elif ( j == height - 1 and i != 0 and i != height - 1 ) :\n",
        "                print(\"*\",end=\"\")\n",
        "            else :\n",
        "                print(end=\" \")\n",
        "        print()\n",
        " \n",
        "# Function to print the pattern of 'V'\n",
        "def printV() :\n",
        "    counter = 0\n",
        "    for i in range(0,height) :\n",
        "        for j in range(0,width+1) :\n",
        "            if ( j == counter or j == width - counter - 1 ):\n",
        "                print(\"*\",end=\"\")\n",
        "            else :\n",
        "                print(end=\" \")\n",
        " \n",
        "        counter = counter + 1\n",
        "        print()\n",
        " \n",
        "# Function to print the pattern of 'W'\n",
        "def printW() :\n",
        "    counter = height // 2\n",
        "    for i in range(0,height) :\n",
        "        print(\"*\",end=\"\")\n",
        "        for j in range(0,height+1) :\n",
        "            if ( j == height ):\n",
        "                print(\"*\",end=\"\")\n",
        "            elif ( (i >= height // 2) and (j == counter or j == height - counter - 1) ) :\n",
        "                print(\"*\",end=\"\")\n",
        "            else :\n",
        "                print(end=\" \")\n",
        "        if( i >= height // 2) :\n",
        "            counter = counter + 1\n",
        "        print()\n",
        " \n",
        "# Function to print the pattern of 'X'\n",
        "def printX() :\n",
        "    counter = 0\n",
        "    for i in range(0,height+1) :\n",
        "        for j in range(0,height+1) :\n",
        "            if ( j == counter or j == height - counter ):\n",
        "                print(\"*\",end=\"\")\n",
        "            else :\n",
        "                print(end=\" \")\n",
        "        counter = counter + 1\n",
        "        print()\n",
        " \n",
        "# Function to print the pattern of 'Y'\n",
        "def printY() :\n",
        "    counter = 0\n",
        "    for i in range(0,height) :\n",
        "        for j in range(0,height+1) :\n",
        "            if ( j == counter or j == height - counter and i <= height // 2 ):\n",
        "                print(\"*\",end=\"\")\n",
        "            else :\n",
        "                print(end=\" \")\n",
        "        print()\n",
        "        if (i < height // 2) :\n",
        "            counter = counter + 1\n",
        " \n",
        "# Function to print the pattern of 'Z'\n",
        "def printZ() :\n",
        "    counter = height - 1\n",
        "    for i in range(0,height) :\n",
        "        for j in range(0,height) :\n",
        "            if ( i == 0 or i == height - 1 or j == counter ):\n",
        "                print(\"*\",end=\"\")\n",
        "            else :\n",
        "                print(end=\" \")\n",
        "        counter = counter - 1\n",
        "        print()\n",
        " \n",
        "  \n",
        "# Function print the pattern of the\n",
        "# alphabets from A to Z\n",
        " \n",
        "def printPattern(character) :\n",
        "     \n",
        "    if character == 'A' : return  printA()\n",
        "    elif character == 'B': return printB()\n",
        "    elif character == 'C': return printC()\n",
        "    elif character == 'D': return printD()\n",
        "    elif character == 'E': return printE(),\n",
        "    elif character == 'F': return printF(),\n",
        "    elif character == 'G': return printG(),\n",
        "    elif character == 'H': return printH(),\n",
        "    elif character == 'I': return printI(),\n",
        "    elif character == 'J': return printJ(),\n",
        "    elif character == 'K': return printK(),\n",
        "    elif character == 'L': return printL(),\n",
        "    elif character == 'M': return printM(),\n",
        "    elif character == 'N': return printN(),\n",
        "    elif character == 'O': return printO(),\n",
        "    elif character == 'P': return printP(),\n",
        "    elif character == 'Q': return printQ(),\n",
        "    elif character == 'R': return printR(),\n",
        "    elif character == 'S': return printS(),\n",
        "    elif character == 'T': return printT(),\n",
        "    elif character == 'U': return printU(),\n",
        "    elif character == 'V': return printV(),\n",
        "    elif character == 'W': return printW(),\n",
        "    elif character == 'X': return printX(),\n",
        "    elif character == 'Y': return printY()\n",
        "    else : printZ()\n",
        " \n",
        "# Driver Code\n",
        "if __name__ == \"__main__\":\n",
        "    character = 'S'\n",
        "    printPattern(character)"
      ],
      "metadata": {
        "colab": {
          "base_uri": "https://localhost:8080/"
        },
        "id": "0nh0K5zKimAy",
        "outputId": "07df3e79-c530-4387-8b59-4873653978f5"
      },
      "execution_count": null,
      "outputs": [
        {
          "output_type": "stream",
          "name": "stdout",
          "text": [
            "*****\n",
            "*    \n",
            "*****\n",
            "    *\n",
            "*****\n"
          ]
        }
      ]
    },
    {
      "cell_type": "markdown",
      "source": [
        "# Q5. **Remove duplicate words from Sentence using Regular Expression**\n",
        "\n",
        "Given a string str which represents a sentence, the task is to remove the duplicate words from sentences using regular expression in java.\n",
        "\n",
        "**Examples:** \n",
        " \n",
        "\n",
        "Input: str = “Good bye bye world world”\n",
        "\n",
        "Output: Good bye world \n",
        "\n",
        "* Explanation: \n",
        "\n",
        "We remove the second occurrence of bye and world from Good bye bye world world\n",
        "\n",
        "Input: str = “Ram went went to to to his home”\n",
        "\n",
        "Output: Ram went to his home \n",
        "\n",
        "* Explanation: \n",
        "\n",
        "We remove the second occurrence of went and the second and third occurrences of to from Ram went went to to to his home.\n",
        "\n",
        "Input: str = “Hello hello world world”\n",
        "\n",
        "Output: Hello world \n",
        "\n",
        "* Explanation: \n",
        "\n",
        "We remove the second occurrence of hello and world from Hello hello world world. \n",
        " "
      ],
      "metadata": {
        "id": "-WXLBOS5mPA2"
      }
    },
    {
      "cell_type": "code",
      "source": [
        "\n",
        "# Python program to remove duplicate words\n",
        "# using Regular Expression or ReGex.\n",
        "import re\n",
        " \n",
        " \n",
        "# Function to validate the sentence\n",
        "# and remove the duplicate words\n",
        "def removeDuplicateWords(input):\n",
        " \n",
        "    # Regex to matching repeated words\n",
        "    regex = r'\\b(\\w+)(?:\\W+\\1\\b)+'\n",
        " \n",
        "    return re.sub(regex, r'\\1', input, flags=re.IGNORECASE)\n",
        " \n",
        " \n",
        "# Driver Code\n",
        " \n",
        "# Test Case: 1\n",
        "str1 = \"Good bye bye world world\"\n",
        "print(removeDuplicateWords(str1))\n",
        " \n",
        "# Test Case: 2\n",
        "str2 = \"Ram went went to to his home\"\n",
        "print(removeDuplicateWords(str2))\n",
        " \n",
        "# Test Case: 3\n",
        "str3 = \"Hello hello world world\"\n",
        "print(removeDuplicateWords(str3))\n",
        " \n",
        "# This code is contributed by yuvraj_chandra"
      ],
      "metadata": {
        "colab": {
          "base_uri": "https://localhost:8080/"
        },
        "id": "aSwUqeb1nYUP",
        "outputId": "a8ccaa80-0ef7-461f-e907-0286cc4cd5b2"
      },
      "execution_count": null,
      "outputs": [
        {
          "output_type": "stream",
          "name": "stdout",
          "text": [
            "Good bye world\n",
            "Ram went to his home\n",
            "Hello world\n"
          ]
        }
      ]
    },
    {
      "cell_type": "markdown",
      "source": [
        "#Q 6.**Python program to print all Prime numbers in an Interval**\n",
        "\n",
        "Given two positive integers start and end. The task is to write a Python program to print all Prime numbers in an Interval.\n",
        "\n",
        "Definition: A prime number is a natural number greater than 1 that has no positive divisors other than 1 and itself. The first few prime numbers are {2, 3, 5, 7, 11, ….}.\n",
        "\n",
        "The idea to solve this problem is to iterate the val from start to end using a for loop and for every number, if it is greater than 1, check if it divides n. If we find any other number which divides, print that value.\n",
        "\n",
        "Below is the Python implementation: "
      ],
      "metadata": {
        "id": "Q_2XUSHCnfpx"
      }
    },
    {
      "cell_type": "code",
      "source": [
        "\n",
        "# Python program to print all\n",
        "# prime number in an interval\n",
        " \n",
        "def prime(x, y):\n",
        "    prime_list = []\n",
        "    for i in range(x, y):\n",
        "        if i == 0 or i == 1:\n",
        "            continue\n",
        "        else:\n",
        "            for j in range(2, int(i/2)+1):\n",
        "                if i % j == 0:\n",
        "                    break\n",
        "            else:\n",
        "                prime_list.append(i)\n",
        "    return prime_list\n",
        " \n",
        "# Driver program\n",
        "starting_range = 2\n",
        "ending_range = 7\n",
        "lst = prime(starting_range, ending_range)\n",
        "if len(lst) == 0:\n",
        "    print(\"There are no prime numbers in this range\")\n",
        "else:\n",
        "    print(\"The prime numbers in this range are: \", lst)"
      ],
      "metadata": {
        "colab": {
          "base_uri": "https://localhost:8080/"
        },
        "id": "PGyllCl_nqKP",
        "outputId": "c41b929b-2b1a-4587-c36d-9d40b5faee1f"
      },
      "execution_count": null,
      "outputs": [
        {
          "output_type": "stream",
          "name": "stdout",
          "text": [
            "The prime numbers in this range are:  [2, 3, 5]\n"
          ]
        }
      ]
    },
    {
      "cell_type": "markdown",
      "source": [
        "# Q 7.**Python Program for n-th Fibonacci number**\n",
        "\n",
        "In mathematical terms, the sequence Fn of Fibonacci numbers is defined by the recurrence relation \n",
        "\n",
        "Fn = Fn-1 + Fn-2\n",
        "\n",
        "With seed values \n",
        "\n",
        "F0 = 0 and F1 = 1.\n",
        "\n",
        "**Method 1 ( Use recursion ) :**"
      ],
      "metadata": {
        "id": "5JLK0bx4n0I_"
      }
    },
    {
      "cell_type": "code",
      "source": [
        "\n",
        "# Function for nth Fibonacci number\n",
        " \n",
        "def Fibonacci(n):\n",
        "    if n<= 0:\n",
        "        print(\"Incorrect input\")\n",
        "    # First Fibonacci number is 0\n",
        "    elif n == 1:\n",
        "        return 0\n",
        "    # Second Fibonacci number is 1\n",
        "    elif n == 2:\n",
        "        return 1\n",
        "    else:\n",
        "        return Fibonacci(n-1)+Fibonacci(n-2)\n",
        " \n",
        "# Driver Program\n",
        " \n",
        "print(Fibonacci(10))\n"
      ],
      "metadata": {
        "colab": {
          "base_uri": "https://localhost:8080/"
        },
        "id": "zcriiLrYoMcN",
        "outputId": "0c333668-118d-40c3-def5-0a08778b647e"
      },
      "execution_count": null,
      "outputs": [
        {
          "output_type": "stream",
          "name": "stdout",
          "text": [
            "34\n"
          ]
        }
      ]
    },
    {
      "cell_type": "markdown",
      "source": [
        "**Method 2 ( Use Dynamic Programming ) :**"
      ],
      "metadata": {
        "id": "LaTcK18qoYZx"
      }
    },
    {
      "cell_type": "code",
      "source": [
        "# Function for nth fibonacci number - Dynamic Programming\n",
        "# Taking 1st two fibonacci numbers as 0 and 1\n",
        " \n",
        "FibArray = [0, 1]\n",
        " \n",
        "def fibonacci(n):\n",
        "    if n<0:\n",
        "        print(\"Incorrect input\")\n",
        "    elif n<= len(FibArray):\n",
        "        return FibArray[n-1]\n",
        "    else:\n",
        "        temp_fib = fibonacci(n-1)+fibonacci(n-2)\n",
        "        FibArray.append(temp_fib)\n",
        "        return temp_fib\n",
        " \n",
        "# Driver Program\n",
        " \n",
        "print(fibonacci(9))\n"
      ],
      "metadata": {
        "colab": {
          "base_uri": "https://localhost:8080/"
        },
        "id": "G9kJ-8yEobAX",
        "outputId": "00278df0-7a28-45cd-ed7c-199837901160"
      },
      "execution_count": null,
      "outputs": [
        {
          "output_type": "stream",
          "name": "stdout",
          "text": [
            "21\n"
          ]
        }
      ]
    },
    {
      "cell_type": "markdown",
      "source": [
        "**Method 3 ( Use Dynamic Programming with Space Optimization) :**"
      ],
      "metadata": {
        "id": "NOyGj2FZojgl"
      }
    },
    {
      "cell_type": "code",
      "source": [
        "# Function for nth fibonacci number - Space Optimisation\n",
        "# Taking 1st two fibonacci numbers as 0 and 1\n",
        " \n",
        "def fibonacci(n):\n",
        "    a = 0\n",
        "    b = 1\n",
        "    if n < 0:\n",
        "        print(\"Incorrect input\")\n",
        "    elif n == 0:\n",
        "        return a\n",
        "    elif n == 1:\n",
        "        return b\n",
        "    else:\n",
        "        for i in range(2, n):\n",
        "            c = a + b\n",
        "            a = b\n",
        "            b = c\n",
        "        return b\n",
        " \n",
        "# Driver Program\n",
        " \n",
        "print(fibonacci(9))"
      ],
      "metadata": {
        "colab": {
          "base_uri": "https://localhost:8080/"
        },
        "id": "m3MDeOqCom7F",
        "outputId": "1cd7e5a7-c910-4889-f12a-d8f6e3719a55"
      },
      "execution_count": null,
      "outputs": [
        {
          "output_type": "stream",
          "name": "stdout",
          "text": [
            "21\n"
          ]
        }
      ]
    },
    {
      "cell_type": "markdown",
      "source": [
        "**Method 4 ( Using Arrays ) :**"
      ],
      "metadata": {
        "id": "vx5H8H_XosXm"
      }
    },
    {
      "cell_type": "code",
      "source": [
        "# creating an array in the function to find the\n",
        "#nth number in fibonacci series. [0, 1, 1, ...]\n",
        "def fibonacci(n):\n",
        "    if n <= 0:\n",
        "        return \"Incorrect Output\"\n",
        "    data = [0, 1]\n",
        "    if n > 2:\n",
        "        for i in range(2, n):\n",
        "            data.append(data[i-1] + data[i-2])\n",
        "    return data[n-1]\n",
        " \n",
        "# Driver Program\n",
        "print(fibonacci(9))"
      ],
      "metadata": {
        "colab": {
          "base_uri": "https://localhost:8080/"
        },
        "id": "Kg3VQGzhoxOQ",
        "outputId": "de5dc608-8dbd-4cf7-8764-473d7d9fe5bc"
      },
      "execution_count": null,
      "outputs": [
        {
          "output_type": "stream",
          "name": "stdout",
          "text": [
            "21\n"
          ]
        }
      ]
    },
    {
      "cell_type": "markdown",
      "source": [
        "* Explanation:\n",
        "\n",
        "[0, 1, 1, 2, 3, 5, 8, 13, 21, 34, 55, 89, 144]\n",
        "\n",
        "As we know that the Fibonacci series is the sum of the previous two terms, so if we enter 12 as the input in the program, so we should get 144 as the output. And that is what is the result. \n",
        "\n",
        "\n",
        "\n"
      ],
      "metadata": {
        "id": "9EvXQHJBo5eS"
      }
    },
    {
      "cell_type": "markdown",
      "source": [
        "# Q 8. **Python Program for cube sum of first n natural numbers**\n",
        "\n",
        "Print the sum of series 13 + 23 + 33 + 43 + …….+ n3 till n-th term. Examples:\n",
        "\n",
        "> Input : n = 5\n",
        "\n",
        "> Output : 225\n",
        "\n",
        ">13 + 23 + 33 + 43 + 53 = 225\n",
        "\n",
        "> Input : n = 7\n",
        "\n",
        "> Output : 784\n",
        "\n",
        "> 13 + 23 + 33 + 43 + 53 + \n",
        "\n",
        "> 63 + 73 = 784"
      ],
      "metadata": {
        "id": "qQBGmnqppZ1R"
      }
    },
    {
      "cell_type": "code",
      "source": [
        "\n",
        "# Simple Python program to find sum of series\n",
        "# with cubes of first n natural numbers\n",
        " \n",
        "# Returns the sum of series\n",
        "def sumOfSeries(n):\n",
        "    sum = 0\n",
        "    for i in range(1, n+1):\n",
        "        sum +=pow(i,3)\n",
        "         \n",
        "    return sum\n",
        " \n",
        "  \n",
        "# Driver Function\n",
        "n = 5\n",
        "print(sumOfSeries(n))\n",
        " \n"
      ],
      "metadata": {
        "colab": {
          "base_uri": "https://localhost:8080/"
        },
        "id": "lCrvqAlyqC0H",
        "outputId": "84fdecbd-e47b-49e1-d56d-f2452ac2ae62"
      },
      "execution_count": null,
      "outputs": [
        {
          "output_type": "stream",
          "name": "stdout",
          "text": [
            "225\n"
          ]
        }
      ]
    },
    {
      "cell_type": "markdown",
      "source": [
        "**Time Complexity : O(n) An efficient solution is to use direct mathematical formula which is (n ( n + 1 ) / 2) ^ 2** "
      ],
      "metadata": {
        "id": "V4LU8yGNqI-Q"
      }
    },
    {
      "cell_type": "code",
      "source": [
        "#(For n = 5 sum by formula is\n",
        "#       (5*(5 + 1 ) / 2)) ^ 2\n",
        "#          = (5*6/2) ^ 2\n",
        "#          = (15) ^ 2\n",
        "#          = 225\n",
        "\n",
        "#For n = 7, sum by formula is\n",
        "#       (7*(7 + 1 ) / 2)) ^ 2\n",
        "#          = (7*8/2) ^ 2\n",
        "#          = (28) ^ 2\n",
        "#          = 784)'''''"
      ],
      "metadata": {
        "id": "ZXoHWS6yqMo4"
      },
      "execution_count": null,
      "outputs": []
    },
    {
      "cell_type": "code",
      "source": [
        "# A formula based Python program to find sum\n",
        "# of series with cubes of first n natural\n",
        "# numbers\n",
        " \n",
        "# Returns the sum of series\n",
        "def sumOfSeries(n):\n",
        "    x = (n * (n + 1)  / 2)\n",
        "    return (int)(x * x)\n",
        " \n",
        " \n",
        "  \n",
        "# Driver Function\n",
        "n = 5\n",
        "print(sumOfSeries(n))\n",
        " \n"
      ],
      "metadata": {
        "colab": {
          "base_uri": "https://localhost:8080/"
        },
        "id": "2SkndrSwqvR-",
        "outputId": "a0b3e208-c85d-47ab-b045-2d04a356df59"
      },
      "execution_count": null,
      "outputs": [
        {
          "output_type": "stream",
          "name": "stdout",
          "text": [
            "225\n"
          ]
        }
      ]
    },
    {
      "cell_type": "markdown",
      "source": [
        "**Time Complexity : O(1) How does this formula work? We can prove the formula using mathematical induction. We can easily see that the formula holds true for n = 1 and n = 2. Let this be true for n = k-1.**"
      ],
      "metadata": {
        "id": "wGQHZX0sq3g_"
      }
    },
    {
      "cell_type": "code",
      "source": [
        "#Let the formula be true for n = k-1.\n",
        "#Sum of first (k-1) natural numbers = \n",
        "#            [((k - 1) * k)/2]2\n",
        "\n",
        "#Sum of first k natural numbers = \n",
        "#          = Sum of (k-1) numbers + k3\n",
        "#          = [((k - 1) * k)/2]2 + k3\n",
        "#          = [k2(k2 - 2k + 1) + 4k3]/4\n",
        "#          = [k4 + 2k3 + k2]/4\n",
        "#          = k2(k2 + 2k + 1)/4\n",
        "#          = [k*(k+1)/2]2"
      ],
      "metadata": {
        "id": "J9vFImc8q42u"
      },
      "execution_count": null,
      "outputs": []
    },
    {
      "cell_type": "markdown",
      "source": [
        "**The above program causes overflow, even if result is not beyond integer limit. Like previous post, we can avoid overflow upto some extent by doing division first.**"
      ],
      "metadata": {
        "id": "smavhF9orKJJ"
      }
    },
    {
      "cell_type": "code",
      "source": [
        "\n",
        "# Efficient Python program to find sum of cubes\n",
        "# of first n natural numbers that avoids\n",
        "# overflow if result is going to be withing\n",
        "# limits.\n",
        " \n",
        "# Returns the sum of series\n",
        "def sumOfSeries(n):\n",
        "    x = 0\n",
        "    if n % 2 == 0 :\n",
        "        x = (n/2) * (n+1)\n",
        "    else:\n",
        "        x = ((n + 1) / 2) * n\n",
        "         \n",
        "    return (int)(x * x)\n",
        " \n",
        "  \n",
        "# Driver Function\n",
        "n = 5\n",
        "print(sumOfSeries(n))\n",
        " "
      ],
      "metadata": {
        "colab": {
          "base_uri": "https://localhost:8080/"
        },
        "id": "eIe7mYfWrGD3",
        "outputId": "fe24ede2-9b9d-4ef1-a2a6-587cb8386dad"
      },
      "execution_count": null,
      "outputs": [
        {
          "output_type": "stream",
          "name": "stdout",
          "text": [
            "225\n"
          ]
        }
      ]
    },
    {
      "cell_type": "markdown",
      "source": [
        "**Method:** Finding cube sum of first n natural numbers using built-in function pow(). The pow() function finds the cube of a number by giving the values of i and number. ex: pow(i,3). "
      ],
      "metadata": {
        "id": "iHhWBW3NrZ4z"
      }
    },
    {
      "cell_type": "code",
      "source": [
        "# Python code\n",
        "# to print cube sum of first n natural numbers\n",
        "# using inbuilt function pow()\n",
        " \n",
        "n=5\n",
        "s=0\n",
        "# iterating loop up to given number n\n",
        "for i in range(1,n+1):\n",
        "    # adding cube sum using pow() function\n",
        "    s=s+pow(i,3)\n",
        "print(s)   "
      ],
      "metadata": {
        "colab": {
          "base_uri": "https://localhost:8080/"
        },
        "id": "v2zc6v4SrccN",
        "outputId": "7c13a1cc-6bc4-4dec-fa8f-2b9593d692fa"
      },
      "execution_count": null,
      "outputs": [
        {
          "output_type": "stream",
          "name": "stdout",
          "text": [
            "225\n"
          ]
        }
      ]
    },
    {
      "cell_type": "markdown",
      "source": [
        "# Q 9 **Python Program to check if given array is Monotonic**\n",
        "\n",
        "Given an array A containing n integers. The task is to check whether the array is Monotonic or not. An array is monotonic if it is either monotone increasing or monotone decreasing. An array A is monotone increasing if for all i <= j, A[i] <= A[j]. \n",
        "\n",
        "An array A is monotone decreasing if for all i <= j, A[i] >= A[j]. \n",
        "\n",
        "Return Type: Boolean value, “True” if the given array A is monotonic else return “False” (without quotes). \n",
        "\n",
        "Examples:\n",
        "\n",
        "> Input : 6 5 4 4\n",
        "\n",
        "> Output : true\n",
        "\n",
        "> Input : 5 15 20 10\n",
        "\n",
        "> Output : false\n",
        "\n",
        "**Approach : Using extend() and sort()**\n",
        "\n",
        "- First copy the given array into two different arrays using extend()\n",
        "- Sort the first array in ascending order using sort()\n",
        "- Sort the second array in descending order using sort(reverse=True)\n",
        "- If the given array is equal to any of the two arrays then the array is monotonic"
      ],
      "metadata": {
        "id": "0kpM_eeirmYN"
      }
    },
    {
      "cell_type": "code",
      "source": [
        "\n",
        "# Check if given array is Monotonic\n",
        "def isMonotonic(A):\n",
        "    x, y = [], []\n",
        "    x.extend(A)\n",
        "    y.extend(A)\n",
        "    x.sort()\n",
        "    y.sort(reverse=True)\n",
        "    if(x == A or y == A):\n",
        "        return True\n",
        "    return False\n",
        " \n",
        " \n",
        "# Driver program\n",
        "A = [6, 5, 4, 4]\n",
        " \n",
        "# Print required result\n",
        "print(isMonotonic(A))"
      ],
      "metadata": {
        "colab": {
          "base_uri": "https://localhost:8080/"
        },
        "id": "smIe3An8sUp5",
        "outputId": "e10ab23d-e0c4-4143-b263-c62711f672fc"
      },
      "execution_count": null,
      "outputs": [
        {
          "output_type": "stream",
          "name": "stdout",
          "text": [
            "True\n"
          ]
        }
      ]
    },
    {
      "cell_type": "markdown",
      "source": [
        "**Approach:** \n",
        "\n",
        "An array is *monotonic* if and only if it is *monotone increasing*, or *monotone decreasing*. Since *p <= q* and *q <= r* implies *p <= r*. So we only need to check adjacent elements to determine if the array is monotone increasing (or decreasing), respectively. We can check each of these properties in one pass.\n",
        "\n",
        "To check whether an array A is *monotone increasing*, we’ll check *A[i] <= A[i+1]* for all i indexing from 0 to len(A)-2. Similarly we can check for *monotone decreasing* where *A[i] >= A[i+1]* for all i indexing from 0 to len(A)-2. \n",
        "\n",
        "***Note: Array with single element* can be considered to be both *monotonic increasing or decreasing*, hence returns *“True“*.***\n",
        "\n",
        "Below is the implementation of the above approach:"
      ],
      "metadata": {
        "id": "FkCuShX2scWe"
      }
    },
    {
      "cell_type": "code",
      "source": [
        "# Python Program to check if given array is Monotonic\n",
        " \n",
        "# Check if given array is Monotonic\n",
        " \n",
        " \n",
        "def isMonotonic(A):\n",
        " \n",
        "    return (all(A[i] <= A[i + 1] for i in range(len(A) - 1)) or\n",
        "            all(A[i] >= A[i + 1] for i in range(len(A) - 1)))\n",
        " \n",
        " \n",
        "# Driver program\n",
        "A = [6, 5, 4, 4]\n",
        " \n",
        "# Print required result\n",
        "print(isMonotonic(A))\n",
        " \n",
        "# This code is written by\n",
        "# Sanjit_Prasad"
      ],
      "metadata": {
        "colab": {
          "base_uri": "https://localhost:8080/"
        },
        "id": "BZ3oDynNtL0_",
        "outputId": "0d8d844c-0bc9-4d28-84bb-ae5a4adb2721"
      },
      "execution_count": null,
      "outputs": [
        {
          "output_type": "stream",
          "name": "stdout",
          "text": [
            "True\n"
          ]
        }
      ]
    },
    {
      "cell_type": "markdown",
      "source": [
        "# Q 10. **Python program to find second largest number in a list**\n",
        "\n",
        "Given a list of numbers, the task is to write a Python program to find the second largest number in the given list.\n",
        "\n",
        "**Examples:** \n",
        "\n",
        "*Input*: list1 = [10, 20, 4]\n",
        "\n",
        "*Output*: 10\n",
        "\n",
        "*Input*: list2 = [70, 11, 20, 4, 100]\n",
        "\n",
        "*Output*: 70\n",
        "\n",
        "**Method 1**: Sorting is an easier but less optimal method. Given below is an O(n) algorithm to do the same."
      ],
      "metadata": {
        "id": "BZEbN4kXtSO0"
      }
    },
    {
      "cell_type": "markdown",
      "source": [
        "**Method 2:** Sort the list in ascending order and print the second last element in the list."
      ],
      "metadata": {
        "id": "lCtGnR5Jtz6x"
      }
    },
    {
      "cell_type": "code",
      "source": [
        "\n",
        "# Python program to find largest number\n",
        "# in a list\n",
        " \n",
        "# List of numbers\n",
        "list1 = [10, 20, 20, 4, 45, 45, 45, 99, 99]\n",
        " \n",
        "# Removing duplicates from the list\n",
        "list2 = list(set(list1))\n",
        " \n",
        "# Sorting the  list\n",
        "list2.sort()\n",
        " \n",
        "# Printing the second last element\n",
        "print(\"Second largest element is:\", list2[-2])"
      ],
      "metadata": {
        "colab": {
          "base_uri": "https://localhost:8080/"
        },
        "id": "-jaOUpBDt1ZG",
        "outputId": "cddc21e4-73b3-41d1-8694-e3e029ff2383"
      },
      "execution_count": null,
      "outputs": [
        {
          "output_type": "stream",
          "name": "stdout",
          "text": [
            "Second largest element is: 45\n"
          ]
        }
      ]
    },
    {
      "cell_type": "markdown",
      "source": [
        "**Method 3:** By removing the max element from the list "
      ],
      "metadata": {
        "id": "Vue7pqdLt56Q"
      }
    },
    {
      "cell_type": "code",
      "source": [
        "\n",
        "# Python program to find second largest number\n",
        "# in a list\n",
        " \n",
        "# List of numbers\n",
        "list1 = [10, 20, 4, 45, 99]\n",
        " \n",
        "# new_list is a set of list1\n",
        "new_list = set(list1)\n",
        " \n",
        "# Removing the largest element from temp list\n",
        "new_list.remove(max(new_list))\n",
        " \n",
        "# Elements in original list are not changed\n",
        "# print(list1)\n",
        "print(max(new_list))"
      ],
      "metadata": {
        "colab": {
          "base_uri": "https://localhost:8080/"
        },
        "id": "bxbyELNat7HH",
        "outputId": "386fa581-333a-464c-aa35-205d50b9f82f"
      },
      "execution_count": null,
      "outputs": [
        {
          "output_type": "stream",
          "name": "stdout",
          "text": [
            "45\n"
          ]
        }
      ]
    },
    {
      "cell_type": "markdown",
      "source": [
        "**Method 4:** Find the max list element on inputs provided by the user"
      ],
      "metadata": {
        "id": "f1zuXZ-wuAEv"
      }
    },
    {
      "cell_type": "code",
      "source": [
        "# Python program to find second largest\n",
        "# number in a list\n",
        " \n",
        "# creating list of integer type\n",
        "list1 = [10, 20, 4, 45, 99]\n",
        " \n",
        "'''\n",
        "# sort the list   \n",
        "list1.sort()\n",
        "     \n",
        "# print second maximum element\n",
        "print(\"Second largest element is:\", list1[-2])\n",
        " \n",
        "'''\n",
        " \n",
        "# print second maximum element using sorted() method\n",
        "print(\"Second largest element is:\", sorted(list1)[-2])"
      ],
      "metadata": {
        "colab": {
          "base_uri": "https://localhost:8080/"
        },
        "id": "TZiYZX8NuDIE",
        "outputId": "8a9c4285-5434-4690-c11f-ae96fccca5b5"
      },
      "execution_count": null,
      "outputs": [
        {
          "output_type": "stream",
          "name": "stdout",
          "text": [
            "Second largest element is: 45\n"
          ]
        }
      ]
    },
    {
      "cell_type": "markdown",
      "source": [
        "**Method 5:** Traverse once to find the largest and then once again to find the second largest."
      ],
      "metadata": {
        "id": "9acuuJCcuGmF"
      }
    },
    {
      "cell_type": "code",
      "source": [
        "def findLargest(arr):\n",
        "    secondLargest = 0\n",
        "    largest = min(arr)\n",
        " \n",
        "    for i in range(len(arr)):\n",
        "        if arr[i] > largest:\n",
        "            secondLargest = largest\n",
        "            largest = arr[i]\n",
        "        else:\n",
        "            secondLargest = max(secondLargest, arr[i])\n",
        " \n",
        "    # Returning second largest element\n",
        "    return secondLargest\n",
        " \n",
        " \n",
        "# Calling above method over this array set\n",
        "print(findLargest([10, 20, 4, 45, 99]))"
      ],
      "metadata": {
        "colab": {
          "base_uri": "https://localhost:8080/"
        },
        "id": "5WBP1grSuHvt",
        "outputId": "675a118d-9be5-4de1-cecd-6226b18d1f31"
      },
      "execution_count": null,
      "outputs": [
        {
          "output_type": "stream",
          "name": "stdout",
          "text": [
            "45\n"
          ]
        }
      ]
    },
    {
      "cell_type": "markdown",
      "source": [
        "**Method 6:** Using list comprehension"
      ],
      "metadata": {
        "id": "4JfmSfg4uLu0"
      }
    },
    {
      "cell_type": "code",
      "source": [
        "def secondmax(arr):\n",
        "  sublist = [x for x in arr if x < max(arr)]\n",
        "  return max(sublist)\n",
        " \n",
        "if __name__ == '__main__':\n",
        "  arr = [10, 20, 4, 45, 99]\n",
        "  print(secondmax(arr))"
      ],
      "metadata": {
        "colab": {
          "base_uri": "https://localhost:8080/"
        },
        "id": "2h_tgsLEuOSt",
        "outputId": "73b83670-fed6-4bc2-ce20-08af634e1c2e"
      },
      "execution_count": null,
      "outputs": [
        {
          "output_type": "stream",
          "name": "stdout",
          "text": [
            "45\n"
          ]
        }
      ]
    },
    {
      "cell_type": "markdown",
      "source": [
        "**Method:** Using lambda function"
      ],
      "metadata": {
        "id": "7azgd1PiuTAt"
      }
    },
    {
      "cell_type": "code",
      "source": [
        "# python code to print second largest element in list\n",
        " \n",
        "lst = [10, 20, 4, 45, 99]\n",
        "maximum1 = max(lst)\n",
        "maximum2 = max(lst, key=lambda x: min(lst)-1 if (x == maximum1) else x)\n",
        "print(maximum2)"
      ],
      "metadata": {
        "colab": {
          "base_uri": "https://localhost:8080/"
        },
        "id": "KPxN1kc1uUad",
        "outputId": "613624da-d29f-4a36-d305-dcd5defc9dcf"
      },
      "execution_count": null,
      "outputs": [
        {
          "output_type": "stream",
          "name": "stdout",
          "text": [
            "45\n"
          ]
        }
      ]
    },
    {
      "cell_type": "markdown",
      "source": [
        "**Method:** Using enumerate function "
      ],
      "metadata": {
        "id": "R9qXk5oPuZX_"
      }
    },
    {
      "cell_type": "code",
      "source": [
        "lst = [10, 20, 4, 45, 99]\n",
        "m=max(lst)\n",
        "x=[a for i,a in enumerate(lst) if a<m]\n",
        "print(max(x))"
      ],
      "metadata": {
        "colab": {
          "base_uri": "https://localhost:8080/"
        },
        "id": "Ipzk5PEduXMu",
        "outputId": "94406cde-a24b-4381-c10c-7e9d36bb1b0b"
      },
      "execution_count": null,
      "outputs": [
        {
          "output_type": "stream",
          "name": "stdout",
          "text": [
            "45\n"
          ]
        }
      ]
    },
    {
      "cell_type": "markdown",
      "source": [
        "Remove all duplicates from a given string in Python"
      ],
      "metadata": {
        "id": "_jEyd_SuRwDd"
      }
    },
    {
      "cell_type": "code",
      "source": [
        "def removeDuplicate(str):\n",
        "    s=set(str)\n",
        "    s=\"\".join(s)\n",
        "    print(\"Without Order:\",s)\n",
        "    t=\"\"\n",
        "    for i in str:\n",
        "        if(i in t):\n",
        "            pass\n",
        "        else:\n",
        "            t=t+i\n",
        "    print(\"With Order:\",t)\n",
        "     \n",
        "str=\"Python is easy language\"\n",
        "removeDuplicate(str)"
      ],
      "metadata": {
        "colab": {
          "base_uri": "https://localhost:8080/"
        },
        "id": "HDqaa6ltSTfG",
        "outputId": "125bffa1-2189-45e4-cab3-134f717a5d1b"
      },
      "execution_count": null,
      "outputs": [
        {
          "output_type": "stream",
          "name": "stdout",
          "text": [
            "Without Order: oPgesnualytih \n",
            "With Order: Python isealgu\n"
          ]
        }
      ]
    },
    {
      "cell_type": "markdown",
      "source": [
        "all prime numbers in range"
      ],
      "metadata": {
        "id": "RoPasWtt_7Iq"
      }
    },
    {
      "cell_type": "code",
      "source": [
        "lower =900\n",
        "upper =1000\n",
        "\n",
        "for num in range (lower,upper+1):\n",
        "  if num>1:\n",
        "    for i in range(2,num):\n",
        "      if num%i==0:\n",
        "        break\n",
        "  else:\n",
        "    print(num)"
      ],
      "metadata": {
        "id": "eROhzz70pCB_"
      },
      "execution_count": null,
      "outputs": []
    },
    {
      "cell_type": "code",
      "source": [
        "# Python program to display all the prime numbers within an interval\n",
        "\n",
        "lower = 900\n",
        "upper = 1000\n",
        "\n",
        "print(\"Prime numbers between\", lower, \"and\", upper, \"are:\")\n",
        "\n",
        "for num in range(lower, upper + 1):\n",
        "   # all prime numbers are greater than 1\n",
        "   if num > 1:\n",
        "       for i in range(2, num):\n",
        "           if (num % i) == 0:\n",
        "               break\n",
        "       else:\n",
        "           print(num)"
      ],
      "metadata": {
        "colab": {
          "base_uri": "https://localhost:8080/"
        },
        "id": "KQmL5Ft3ArFL",
        "outputId": "fd565803-5c7e-473c-aaf9-2a57e4df8e41"
      },
      "execution_count": null,
      "outputs": [
        {
          "output_type": "stream",
          "name": "stdout",
          "text": [
            "Prime numbers between 900 and 1000 are:\n",
            "907\n",
            "911\n",
            "919\n",
            "929\n",
            "937\n",
            "941\n",
            "947\n",
            "953\n",
            "967\n",
            "971\n",
            "977\n",
            "983\n",
            "991\n",
            "997\n"
          ]
        }
      ]
    },
    {
      "cell_type": "code",
      "source": [
        "list1=[42,52,13,74,12,19,27]\n",
        "for i in range(len(list1)):\n",
        "  for j in range(i):\n",
        "    if list1[i]<list1[j]:\n",
        "      list1[i],list1[j]=list1[j],list1[i]\n",
        "print(list1)    "
      ],
      "metadata": {
        "colab": {
          "base_uri": "https://localhost:8080/"
        },
        "id": "SRl17NicAxQN",
        "outputId": "1fefead9-baaf-476e-c862-f069359750d6"
      },
      "execution_count": null,
      "outputs": [
        {
          "output_type": "stream",
          "name": "stdout",
          "text": [
            "[12, 13, 19, 27, 42, 52, 74]\n"
          ]
        }
      ]
    },
    {
      "cell_type": "code",
      "source": [
        "lower = 900\n",
        "upper = 1000\n",
        "\n",
        "for num in range(lower,upper+1):\n",
        "    for i in range(2,int(num/2)+1):\n",
        "      if num%i==0:\n",
        "       break\n",
        "    else:\n",
        "        print(num)"
      ],
      "metadata": {
        "colab": {
          "base_uri": "https://localhost:8080/"
        },
        "id": "gLebW3G7CQG9",
        "outputId": "27f54cfb-7b82-4fee-94f4-1a361c6ae42c"
      },
      "execution_count": null,
      "outputs": [
        {
          "output_type": "stream",
          "name": "stdout",
          "text": [
            "907\n",
            "911\n",
            "919\n",
            "929\n",
            "937\n",
            "941\n",
            "947\n",
            "953\n",
            "967\n",
            "971\n",
            "977\n",
            "983\n",
            "991\n",
            "997\n"
          ]
        }
      ]
    },
    {
      "cell_type": "code",
      "source": [
        "lst=[12,1,5,1,6,8,4,6]\n",
        "for i in range(len(lst)):\n",
        "  for j in range(i):\n",
        "    if lst[i]>lst[j]:\n",
        "      lst[i],lst[j]=lst[j],lst[i]\n",
        "print(lst)"
      ],
      "metadata": {
        "colab": {
          "base_uri": "https://localhost:8080/"
        },
        "id": "3cpqPAHaE1Ab",
        "outputId": "243786d6-8863-46d6-f16b-0ed6d6fe2308"
      },
      "execution_count": null,
      "outputs": [
        {
          "output_type": "stream",
          "name": "stdout",
          "text": [
            "[12, 8, 6, 6, 5, 4, 1, 1]\n"
          ]
        }
      ]
    },
    {
      "cell_type": "code",
      "source": [
        "up=1000\n",
        "lw=900\n",
        "for num in range(lw,up+1):\n",
        "  for i in range(2,int(num/2)+1):\n",
        "    if(num%i==0):\n",
        "      break\n",
        "  else:\n",
        "    print(num)\n"
      ],
      "metadata": {
        "colab": {
          "base_uri": "https://localhost:8080/"
        },
        "id": "qWXYOiAWPMvy",
        "outputId": "ffd19388-dc4d-464e-db81-b50b2ae46ff0"
      },
      "execution_count": null,
      "outputs": [
        {
          "output_type": "stream",
          "name": "stdout",
          "text": [
            "907\n",
            "911\n",
            "919\n",
            "929\n",
            "937\n",
            "941\n",
            "947\n",
            "953\n",
            "967\n",
            "971\n",
            "977\n",
            "983\n",
            "991\n",
            "997\n"
          ]
        }
      ]
    },
    {
      "cell_type": "markdown",
      "source": [],
      "metadata": {
        "id": "6IUntyWp2s7M"
      }
    },
    {
      "cell_type": "code",
      "source": [
        "def fib(n):\n",
        "  if n<0 :\n",
        "    print('Incorrect Input')\n",
        "  elif n ==1 :\n",
        "    return 0\n",
        "  elif n==2 :\n",
        "    return 1\n",
        "  else:\n",
        "    return fib(n-1)+fib(n-2)\n",
        "fib(10)"
      ],
      "metadata": {
        "colab": {
          "base_uri": "https://localhost:8080/"
        },
        "id": "KTEmOm-uR16K",
        "outputId": "0ab9ad4f-c15b-432f-c215-f27543fc41ce"
      },
      "execution_count": null,
      "outputs": [
        {
          "output_type": "execute_result",
          "data": {
            "text/plain": [
              "34"
            ]
          },
          "metadata": {},
          "execution_count": 55
        }
      ]
    },
    {
      "cell_type": "code",
      "source": [
        "def fib(n):\n",
        "  if n<0:\n",
        "    print(\"incorrect output\")\n",
        "  elif n==1:\n",
        "    return 0\n",
        "  elif n==2:\n",
        "    return 1\n",
        "  else:\n",
        "    return fib(n-1)+fib(n-2)\n",
        "fib(10)"
      ],
      "metadata": {
        "colab": {
          "base_uri": "https://localhost:8080/"
        },
        "id": "6bQaVjy5SGv_",
        "outputId": "7537688e-7786-4c05-ab69-5c9aed403849"
      },
      "execution_count": null,
      "outputs": [
        {
          "output_type": "execute_result",
          "data": {
            "text/plain": [
              "34"
            ]
          },
          "metadata": {},
          "execution_count": 56
        }
      ]
    },
    {
      "cell_type": "code",
      "source": [
        "sentence = \"I love programming in Python. How about you?\"\n",
        "''.join(sentence[-i] for i in range(1, len(sentence)+1))\n",
        "     "
      ],
      "metadata": {
        "id": "r6PPayI5S9-w",
        "colab": {
          "base_uri": "https://localhost:8080/",
          "height": 36
        },
        "outputId": "5cedef50-9ec2-4778-fe7f-a13a0b5ce4a4"
      },
      "execution_count": null,
      "outputs": [
        {
          "output_type": "execute_result",
          "data": {
            "text/plain": [
              "'?uoy tuoba woH .nohtyP ni gnimmargorp evol I'"
            ],
            "application/vnd.google.colaboratory.intrinsic+json": {
              "type": "string"
            }
          },
          "metadata": {},
          "execution_count": 57
        }
      ]
    }
  ]
}